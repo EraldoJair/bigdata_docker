{
 "cells": [
  {
   "cell_type": "code",
   "execution_count": 24,
   "metadata": {},
   "outputs": [
    {
     "name": "stdout",
     "output_type": "stream",
     "text": [
      "/mnt/notebooks\r\n"
     ]
    }
   ],
   "source": [
    "# import pandas as pd\n",
    "!pwd"
   ]
  },
  {
   "cell_type": "code",
   "execution_count": null,
   "metadata": {},
   "outputs": [],
   "source": [
    "jdbcDF1 = spark.read \\\n",
    "    .format(\"jdbc\") \\\n",
    "    .option(\"driver\", \"com.facebook.presto.jdbc.PrestoDriver\") \\\n",
    "    .option(\"url\", \"jdbc:presto://presto:8080/hive/proyectos\") \\\n",
    "    .option(\"user\", \"hive\") \\\n",
    "    .option(\"dbtable\", \"customers100\") \\\n",
    "    .load()"
   ]
  },
  {
   "cell_type": "code",
   "execution_count": 21,
   "metadata": {},
   "outputs": [],
   "source": [
    "jdbcDF2 = spark.read \\\n",
    "    .format(\"jdbc\") \\\n",
    "    .option(\"driver\", \"com.facebook.presto.jdbc.PrestoDriver\") \\\n",
    "    .option(\"url\", \"jdbc:presto://presto:8080/hive/proyectos\") \\\n",
    "    .option(\"user\", \"hive\") \\\n",
    "    .option(\"dbtable\", \"hue__tmp_customers\") \\\n",
    "    .load()"
   ]
  },
  {
   "cell_type": "code",
   "execution_count": 27,
   "metadata": {},
   "outputs": [],
   "source": [
    "concatenatedDF = jdbcDF1.union(jdbcDF2)\n",
    "\n",
    "# Exportar el DataFrame concatenado a un archivo CSV\n",
    "concatenatedDF.write \\\n",
    "    .option(\"header\", \"true\") \\\n",
    "    .csv(\"/mnt/notebooks/csv_directory\")"
   ]
  },
  {
   "cell_type": "code",
   "execution_count": null,
   "metadata": {},
   "outputs": [],
   "source": []
  },
  {
   "cell_type": "code",
   "execution_count": 23,
   "metadata": {},
   "outputs": [
    {
     "name": "stdout",
     "output_type": "stream",
     "text": [
      "+-----+---------------+----------+---------+-----------------+--------------------+--------------------+--------------------+--------------------+--------------------+--------------------+--------------------+\n",
      "|index|    customer id|first name|last name|          company|                city|             country|             phone 1|             phone 2|               email|   subscription date|             website|\n",
      "+-----+---------------+----------+---------+-----------------+--------------------+--------------------+--------------------+--------------------+--------------------+--------------------+--------------------+\n",
      "| null|    Customer Id|First Name|Last Name|          Company|                City|             Country|             Phone 1|             Phone 2|               Email|   Subscription Date|             Website|\n",
      "|    1|dE014d010c7ab0c|    Andrew|  Goodman|    Stewart-Flynn|         Rowlandberg|               Macao|   846-790-4623x4715| (422)787-2331x71127|marieyates@gomez-...|          2021-07-26|http://www.shea.biz/|\n",
      "|    2|2B54172c8b65eC3|     Alvin|     Lane|           \"Terry| Proctor and Lawr...|            Bethside|    Papua New Guinea|  124-597-8652x05682|   321.441.0588x6218|alexandra86@mccoy...|          2021-06-24|\n",
      "|    3|d794Dd48988d2ac|     Jenna|  Harding|     Bailey Group|        Moniquemouth|               China|  (335)987-3085x3780|    001-680-204-8312|justincurtis@pier...|          2020-04-05|http://www.booth-...|\n",
      "|    4|3b3Aa4aCc68f3Be|  Fernando|     Ford|     Moss-Maxwell|          Leeborough|               Macao|       (047)752-3122|   048.779.5035x9122| adeleon@hubbard.org|          2020-11-29|http://www.hebert...|\n",
      "|    5|D60df62ad2ae41E|      Kara|    Woods|  Mccarthy-Kelley|    Port Jacksonland|               Nepal|+1-360-693-4419x1...|        163-627-2565|jesus90@roberson....|          2022-04-22| http://merritt.com/|\n",
      "|    6|8aaa5d0CE9ee311|   Marissa|   Gamble|  Cherry and Sons|           Webertown|               Sudan|001-645-334-5514x...|       (751)980-3163|katieallison@leon...|          2021-11-17|http://www.kaufma...|\n",
      "|    7|73B22Ac8A43DD1A|     Julie|   Cooley|              \"Yu|   Norman and Sharp\"|         West Sandra|               Japan|+1-675-243-7422x9177|       (703)337-5903|priscilla88@steph...|          2022-03-26|\n",
      "|    8|DC94CCd993D311b|    Lauren|    Villa|          \"French| Travis and Hensley\"|         New Yolanda|                Fiji|    081.226.1797x647|    186.540.9690x605|colehumphrey@aust...|          2020-08-14|\n",
      "|    9|9Ba746Cb790FED9|     Emily|   Bryant|            \"Moon| Strickland and C...|  East Normanchester|          Seychelles|  430-401-5228x35091|        115-835-3840|buckyvonne@church...|          2020-12-30|\n",
      "|   10|aAa1EDfaA70DA0c|     Marie|  Estrada|          May Inc|            Welchton|United Arab Emirates|    001-648-790-9244|        973-767-3611|christie44@mckenz...|          2020-09-03|https://www.salin...|\n",
      "|   11|bf104C25d0BA4E1|   Nichole|   Cannon|    Rios and Sons|          West Devon|             Burundi|          0647787401|        139.476.1068|blandry@henson-ha...|          2021-04-26|http://www.humphr...|\n",
      "|   12|bf2fA37cbAd7dDc|   Bernard|   Ritter|Bradford and Sons|      West Francisco|               Palau|        292.313.1902|       (065)075-0554|tammiepope@arroyo...|          2022-01-19| http://sellers.biz/|\n",
      "|   13|4fa8ffcdBbf53bB|    Darryl|   Archer|      Kerr-Cherry|            Holtfurt|              Uganda|       (389)437-1716|    092.364.7349x593|woodalejandro@ski...|          2022-04-18|https://www.danie...|\n",
      "|   14|aBd960429ecd363|      Ryan|       Li|          \"Hooper|     Cross and Holt\"|          Batesville|       Liechtenstein|001-119-787-0125x...|    001-477-254-3645|    lmassey@duke.com|          2021-03-06|\n",
      "|   15|2a0c691Ce19C6f3|     Vicki|    Nunez|         \"Leonard| Galvan and Black...|      Barbaraborough|               Haiti|       (217)474-0312| (098)195-0840x79579|  zgrant@sweeney.com|          2022-01-30|\n",
      "|   16|B58fecf82f997Dd|      Sean| Townsend|     Preston-Sosa|       Velasquezberg|                Iran|    001-534-283-5153|          5786415664| lkline@maxwell.info|          2020-05-30|http://www.vargas...|\n",
      "|   17|41d0201DcF028b5|    Sophia|   Mathis|Richard-Velasquez|           Toddhaven|         Switzerland|001-858-762-7896x916|  274-147-4185x15182|brockmason@faulkn...|          2020-01-23|http://www.vaughn...|\n",
      "|   18|B1A1b09CD5C3b6a|     Helen|    Potts|          \"Rangel| Livingston and P...|         Douglasland|          Seychelles|       (140)862-2659|     +1-875-299-7166|carrollmia@donova...|          2021-07-27|\n",
      "|   19|ba5a73D210dCcE4|     Joann|   Finley|       Harvey PLC|        Barrettshire|          Montserrat|   (941)715-8720x950|    155.433.4824x955|gabriela86@sampso...|          2022-04-11|http://www.harrel...|\n",
      "+-----+---------------+----------+---------+-----------------+--------------------+--------------------+--------------------+--------------------+--------------------+--------------------+--------------------+\n",
      "only showing top 20 rows\n",
      "\n"
     ]
    }
   ],
   "source": [
    "jdbcDF2.show()"
   ]
  },
  {
   "cell_type": "code",
   "execution_count": 14,
   "metadata": {},
   "outputs": [],
   "source": [
    "dataframe_mysql = spark.read \\\n",
    "    .format(\"jdbc\") \\\n",
    "    .option(\"url\", \"jdbc:mysql://database/employees\") \\\n",
    "    .option(\"driver\", \"com.mysql.jdbc.Driver\") \\\n",
    "    .option(\"dbtable\", \"employees\") \\\n",
    "    .option(\"user\", \"root\") \\\n",
    "    .option(\"password\", \"secret\") \\\n",
    "    .load()\n"
   ]
  },
  {
   "cell_type": "code",
   "execution_count": 15,
   "metadata": {},
   "outputs": [
    {
     "name": "stdout",
     "output_type": "stream",
     "text": [
      "+------+----------+----------+-----------+------+----------+\n",
      "|emp_no|birth_date|first_name|  last_name|gender| hire_date|\n",
      "+------+----------+----------+-----------+------+----------+\n",
      "| 10001|1953-09-02|    Georgi|    Facello|     M|1986-06-26|\n",
      "| 10002|1964-06-02|   Bezalel|     Simmel|     F|1985-11-21|\n",
      "| 10003|1959-12-03|     Parto|    Bamford|     M|1986-08-28|\n",
      "| 10004|1954-05-01| Chirstian|    Koblick|     M|1986-12-01|\n",
      "| 10005|1955-01-21|   Kyoichi|   Maliniak|     M|1989-09-12|\n",
      "| 10006|1953-04-20|    Anneke|    Preusig|     F|1989-06-02|\n",
      "| 10007|1957-05-23|   Tzvetan|  Zielinski|     F|1989-02-10|\n",
      "| 10008|1958-02-19|    Saniya|   Kalloufi|     M|1994-09-15|\n",
      "| 10009|1952-04-19|    Sumant|       Peac|     F|1985-02-18|\n",
      "| 10010|1963-06-01| Duangkaew|   Piveteau|     F|1989-08-24|\n",
      "| 10011|1953-11-07|      Mary|      Sluis|     F|1990-01-22|\n",
      "| 10012|1960-10-04|  Patricio|  Bridgland|     M|1992-12-18|\n",
      "| 10013|1963-06-07| Eberhardt|     Terkki|     M|1985-10-20|\n",
      "| 10014|1956-02-12|     Berni|      Genin|     M|1987-03-11|\n",
      "| 10015|1959-08-19|  Guoxiang|  Nooteboom|     M|1987-07-02|\n",
      "| 10016|1961-05-02|  Kazuhito|Cappelletti|     M|1995-01-27|\n",
      "| 10017|1958-07-06| Cristinel|  Bouloucos|     F|1993-08-03|\n",
      "| 10018|1954-06-19|  Kazuhide|       Peha|     F|1987-04-03|\n",
      "| 10019|1953-01-23|   Lillian|    Haddadi|     M|1999-04-30|\n",
      "| 10020|1952-12-24|    Mayuko|    Warwick|     M|1991-01-26|\n",
      "+------+----------+----------+-----------+------+----------+\n",
      "only showing top 20 rows\n",
      "\n"
     ]
    }
   ],
   "source": [
    "dataframe_mysql.show()"
   ]
  },
  {
   "cell_type": "code",
   "execution_count": 5,
   "metadata": {},
   "outputs": [],
   "source": [
    "dataframe_mysql.write.parquet(\"mysql\")"
   ]
  },
  {
   "cell_type": "code",
   "execution_count": 6,
   "metadata": {},
   "outputs": [],
   "source": [
    "df = spark.read.parquet(\"mysql\")"
   ]
  },
  {
   "cell_type": "code",
   "execution_count": 8,
   "metadata": {},
   "outputs": [
    {
     "name": "stdout",
     "output_type": "stream",
     "text": [
      "+------+----------+----------+-----------+------+----------+\n",
      "|emp_no|birth_date|first_name|  last_name|gender| hire_date|\n",
      "+------+----------+----------+-----------+------+----------+\n",
      "| 10001|1953-09-02|    Georgi|    Facello|     M|1986-06-26|\n",
      "| 10002|1964-06-02|   Bezalel|     Simmel|     F|1985-11-21|\n",
      "| 10003|1959-12-03|     Parto|    Bamford|     M|1986-08-28|\n",
      "| 10004|1954-05-01| Chirstian|    Koblick|     M|1986-12-01|\n",
      "| 10005|1955-01-21|   Kyoichi|   Maliniak|     M|1989-09-12|\n",
      "| 10006|1953-04-20|    Anneke|    Preusig|     F|1989-06-02|\n",
      "| 10007|1957-05-23|   Tzvetan|  Zielinski|     F|1989-02-10|\n",
      "| 10008|1958-02-19|    Saniya|   Kalloufi|     M|1994-09-15|\n",
      "| 10009|1952-04-19|    Sumant|       Peac|     F|1985-02-18|\n",
      "| 10010|1963-06-01| Duangkaew|   Piveteau|     F|1989-08-24|\n",
      "| 10011|1953-11-07|      Mary|      Sluis|     F|1990-01-22|\n",
      "| 10012|1960-10-04|  Patricio|  Bridgland|     M|1992-12-18|\n",
      "| 10013|1963-06-07| Eberhardt|     Terkki|     M|1985-10-20|\n",
      "| 10014|1956-02-12|     Berni|      Genin|     M|1987-03-11|\n",
      "| 10015|1959-08-19|  Guoxiang|  Nooteboom|     M|1987-07-02|\n",
      "| 10016|1961-05-02|  Kazuhito|Cappelletti|     M|1995-01-27|\n",
      "| 10017|1958-07-06| Cristinel|  Bouloucos|     F|1993-08-03|\n",
      "| 10018|1954-06-19|  Kazuhide|       Peha|     F|1987-04-03|\n",
      "| 10019|1953-01-23|   Lillian|    Haddadi|     M|1999-04-30|\n",
      "| 10020|1952-12-24|    Mayuko|    Warwick|     M|1991-01-26|\n",
      "+------+----------+----------+-----------+------+----------+\n",
      "only showing top 20 rows\n",
      "\n"
     ]
    }
   ],
   "source": [
    "df.show()"
   ]
  },
  {
   "cell_type": "code",
   "execution_count": null,
   "metadata": {},
   "outputs": [],
   "source": []
  }
 ],
 "metadata": {
  "kernelspec": {
   "display_name": "PySpark",
   "language": "python",
   "name": "pyspark"
  },
  "language_info": {
   "codemirror_mode": {
    "name": "ipython",
    "version": 3
   },
   "file_extension": ".py",
   "mimetype": "text/x-python",
   "name": "python",
   "nbconvert_exporter": "python",
   "pygments_lexer": "ipython3",
   "version": "3.6.10"
  }
 },
 "nbformat": 4,
 "nbformat_minor": 2
}
